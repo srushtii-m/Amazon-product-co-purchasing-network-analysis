{
 "cells": [
  {
   "cell_type": "markdown",
   "metadata": {},
   "source": [
    "## DVD Recommendation"
   ]
  },
  {
   "cell_type": "code",
   "execution_count": 3,
   "metadata": {},
   "outputs": [],
   "source": [
    "import glob\n",
    "import random\n",
    "import re\n",
    "import nltk\n",
    "from stemming.porter2 import stem\n",
    "from nltk.corpus import stopwords\n",
    "import string\n",
    "import numpy as np\n",
    "import pandas as pd\n",
    "import csv\n",
    "import networkx as nx\n",
    "from matplotlib import pylab\n",
    "from matplotlib import pyplot as plt\n",
    "import scipy.sparse"
   ]
  },
  {
   "cell_type": "code",
   "execution_count": 4,
   "metadata": {},
   "outputs": [],
   "source": [
    "Metadata_File = open('amazon-meta.txt', 'r', encoding = 'utf-8', errors = 'ignore')\n",
    "Amazon_Products = {}"
   ]
  },
  {
   "cell_type": "code",
   "execution_count": 5,
   "metadata": {},
   "outputs": [],
   "source": [
    "# Initialize variables\n",
    "(Id, ASIN, Title, Categories, Group, Copurchased, SalesRank, TotalReviews, AvgRating, DegreeCentrality, ClusteringCoeff) = (\"\", \"\", \"\", \"\", \"\", \"\", 0, 0, 0.0, 0, 0.0)\n",
    "\n",
    "# Process each line in the file\n",
    "for line in Metadata_File:\n",
    "    line = line.strip()\n",
    "\n",
    "    # Parsing the file contents\n",
    "    if line.startswith(\"Id\"):\n",
    "        Id = line[3:].strip()\n",
    "    elif line.startswith(\"ASIN\"):\n",
    "        ASIN = line[5:].strip()\n",
    "    elif line.startswith(\"title\"):\n",
    "        Title = ' '.join(line[6:].strip().split())\n",
    "    elif line.startswith(\"group\"):\n",
    "        Group = line[6:].strip()\n",
    "    elif line.startswith(\"salesrank\"):\n",
    "        SalesRank = line[10:].strip()\n",
    "    elif line.startswith(\"similar\"):\n",
    "        ls = line.split()\n",
    "        Copurchased = ' '.join(ls[2:])\n",
    "    elif line.startswith(\"categories\"):\n",
    "        ls = line.split()\n",
    "        Categories = ' '.join((Metadata_File.readline()).lower() for i in range(int(ls[1].strip())))\n",
    "        Categories = re.compile('[%s]' % re.escape(string.digits + string.punctuation)).sub(' ', Categories)\n",
    "        Categories = ' '.join(set(Categories.split()) - set(stopwords.words(\"english\")))\n",
    "        Categories = ' '.join(stem(word) for word in Categories.split())\n",
    "    elif line.startswith(\"reviews\"):\n",
    "        ls = line.split()\n",
    "        TotalReviews = ls[2].strip()\n",
    "        AvgRating = ls[7].strip()\n",
    "    elif line == \"\":\n",
    "        if ASIN:\n",
    "            Amazon_Products[ASIN] = {\n",
    "                'Id': Id,\n",
    "                'Title': Title,\n",
    "                'Categories': ' '.join(set(Categories.split())),\n",
    "                'Group': Group,\n",
    "                'Copurchased': Copurchased,\n",
    "                'SalesRank': int(SalesRank),\n",
    "                'TotalReviews': int(TotalReviews),\n",
    "                'AvgRating': float(AvgRating),\n",
    "                'DegreeCentrality': DegreeCentrality,\n",
    "                'ClusteringCoeff': ClusteringCoeff\n",
    "            }\n",
    "        # Reset variables for the next product\n",
    "        (Id, ASIN, Title, Categories, Group, Copurchased, SalesRank, TotalReviews, AvgRating, DegreeCentrality, ClusteringCoeff) = (\"\", \"\", \"\", \"\", \"\", \"\", 0, 0, 0.0, 0, 0.0)\n",
    "\n",
    "# Close the file\n",
    "Metadata_File.close()"
   ]
  },
  {
   "cell_type": "code",
   "execution_count": 7,
   "metadata": {},
   "outputs": [],
   "source": [
    "Amazon_DVD = {}\n",
    "for asin, metadata in Amazon_Products.items():\n",
    "    if (metadata['Group'] == 'DVD'):\n",
    "        Amazon_DVD[asin] = Amazon_Products[asin]"
   ]
  },
  {
   "cell_type": "code",
   "execution_count": 8,
   "metadata": {},
   "outputs": [],
   "source": [
    "for asin, metadata in Amazon_DVD.items():\n",
    "    Amazon_DVD[asin]['Copurchased'] = ' '.join([cp for cp in metadata['Copurchased'].split() if cp in Amazon_DVD.keys()])"
   ]
  },
  {
   "cell_type": "code",
   "execution_count": 13,
   "metadata": {},
   "outputs": [],
   "source": [
    "# Initialize the graph for DVD co-purchases\n",
    "dvd_co_purchase_graph = nx.Graph()\n",
    "\n",
    "# Loop through each DVD item and its metadata\n",
    "for dvd_id, details in Amazon_DVD.items():\n",
    "    dvd_co_purchase_graph.add_node(dvd_id)  # Add each DVD as a node\n",
    "    for related_dvd in details['Copurchased'].split():\n",
    "        clean_id = related_dvd.strip()\n",
    "        dvd_co_purchase_graph.add_node(clean_id)  # Add related DVDs as nodes\n",
    "        similarity_measure = 0  # Initialize similarity score\n",
    "\n",
    "        # Create sets of categories for the current and related DVD\n",
    "        current_dvd_categories = set(details['Categories'].split())\n",
    "        related_dvd_categories = set(Amazon_DVD[clean_id]['Categories'].split())\n",
    "\n",
    "        # Calculate intersection and union of categories\n",
    "        categories_intersection = current_dvd_categories & related_dvd_categories\n",
    "        categories_union = current_dvd_categories | related_dvd_categories\n",
    "\n",
    "        # Compute similarity score if intersection is non-empty\n",
    "        if categories_intersection:\n",
    "            similarity_measure = round(len(categories_intersection) / len(categories_union), 2)\n",
    "\n",
    "        # Add edge with similarity score as weight\n",
    "        dvd_co_purchase_graph.add_edge(dvd_id, clean_id, weight=similarity_measure)"
   ]
  },
  {
   "cell_type": "code",
   "execution_count": 14,
   "metadata": {},
   "outputs": [],
   "source": [
    "# Calculate the degree centrality for each node in the graph\n",
    "degree_centralities = nx.degree(dvd_co_purchase_graph) \n",
    "\n",
    "# Iterate through each node in the dvd co-purchase graph\n",
    "for dvd_id in nx.nodes(dvd_co_purchase_graph):\n",
    "    dvd_metadata = Amazon_DVD[dvd_id]  # Retrieve metadata for the DVD\n",
    "    dvd_metadata['Degree_Centrality'] = int(degree_centralities[dvd_id])  # Assign degree centrality\n",
    "\n",
    "    # Construct an ego graph for the current node\n",
    "    dvd_ego_graph = nx.ego_graph(dvd_co_purchase_graph, dvd_id, radius=1) \n",
    "\n",
    "    # Calculate and assign the clustering coefficient\n",
    "    dvd_metadata['Clustering_Coefficient'] = round(nx.average_clustering(dvd_ego_graph), 2)\n",
    "    \n",
    "    # Update the DVD metadata\n",
    "    Amazon_DVD[dvd_id] = dvd_metadata\n"
   ]
  },
  {
   "cell_type": "code",
   "execution_count": 15,
   "metadata": {},
   "outputs": [],
   "source": [
    "# Opening and preparing the file for writing DVD data\n",
    "dvd_data_file = open('amazon-dvd-data.txt', 'w', encoding='utf-8', errors='ignore')\n",
    "\n",
    "# Writing the header line to the file\n",
    "header = [\"ID\", \"ASIN\", \"Title\", \"Category\", \"Group\", \"Co-purchase\", \"Sales Rank\", \"Review Count\", \"Average Rating\", \"Degree Centrality\", \"Clustering Coefficient\"]\n",
    "dvd_data_file.write(\"\\t\".join(header) + \"\\n\")\n",
    "\n",
    "# Iterating over the Amazon DVD data to write each item's metadata\n",
    "for dvd_asin, details in Amazon_DVD.items():\n",
    "    dvd_data_file.write(\"\\t\".join([\n",
    "        details['Id'], \n",
    "        dvd_asin, \n",
    "        details['Title'], \n",
    "        details['Categories'], \n",
    "        details['Group'], \n",
    "        details['Copurchased'], \n",
    "        str(details['SalesRank']), \n",
    "        str(details['TotalReviews']), \n",
    "        str(details['AvgRating']), \n",
    "        str(details['Degree_Centrality']), \n",
    "        str(details['Clustering_Coefficient'])\n",
    "    ]) + \"\\n\")\n",
    "\n",
    "# Closing the file after writing is complete\n",
    "dvd_data_file.close()\n"
   ]
  },
  {
   "cell_type": "code",
   "execution_count": 16,
   "metadata": {},
   "outputs": [],
   "source": [
    "# Opening a file to write the weighted edge list of the DVD co-purchase graph\n",
    "dvd_copurchase_edge_list_file = open(\"amazon-dvd-copurchase-edges.edgelist\", 'wb')\n",
    "\n",
    "# Writing the weighted edge list to the file using NetworkX\n",
    "nx.write_weighted_edgelist(dvd_co_purchase_graph, dvd_copurchase_edge_list_file)\n",
    "\n",
    "# Closing the file after writing\n",
    "dvd_copurchase_edge_list_file.close()\n"
   ]
  },
  {
   "cell_type": "code",
   "execution_count": 17,
   "metadata": {},
   "outputs": [],
   "source": [
    "# Opening the file containing Amazon DVD data for reading\n",
    "dvd_data_file = open('amazon-dvd-data.txt', 'r', encoding='utf-8', errors='ignore')\n",
    "\n",
    "# Dictionary to store DVD information\n",
    "amazon_dvd_data = {}\n",
    "\n",
    "# Skipping the header line\n",
    "dvd_data_file.readline()\n",
    "\n",
    "# Iterating over each line in the file to parse DVD information\n",
    "for record in dvd_data_file:\n",
    "    fields = record.split(\"\\t\")  # Splitting the line into fields\n",
    "    dvd_info = {}  # Dictionary to hold individual DVD metadata\n",
    "\n",
    "    # Assigning metadata fields to the dictionary\n",
    "    dvd_info['ID'] = fields[0].strip()\n",
    "    dvd_asin = fields[1].strip()\n",
    "    dvd_info['Title'] = fields[2].strip()\n",
    "    dvd_info['Category'] = fields[3].strip()\n",
    "    dvd_info['Group'] = fields[4].strip()\n",
    "    dvd_info['Co-purchase'] = fields[5].strip()\n",
    "    dvd_info['Sales Rank'] = int(fields[6].strip())\n",
    "    dvd_info['Review Count'] = int(fields[7].strip())\n",
    "    dvd_info['Average Rating'] = float(fields[8].strip())\n",
    "    dvd_info['Degree of Centrality'] = int(fields[9].strip())\n",
    "    dvd_info['Clustering Coefficient'] = float(fields[10].strip())\n",
    "\n",
    "    # Storing the DVD information in the main dictionary\n",
    "    amazon_dvd_data[dvd_asin] = dvd_info\n",
    "\n",
    "# Closing the file\n",
    "dvd_data_file.close()\n"
   ]
  },
  {
   "cell_type": "code",
   "execution_count": 18,
   "metadata": {},
   "outputs": [],
   "source": [
    "# Opening the file containing the DVD co-purchase edge list\n",
    "dvd_copurchase_list_file = open(\"amazon-dvd-copurchase-edges.edgelist\", \"rb\")\n",
    "\n",
    "# Reading the weighted edge list to create a graph\n",
    "dvd_copurchase_network = nx.read_weighted_edgelist(dvd_copurchase_list_file)\n",
    "\n",
    "# Closing the file after reading\n",
    "dvd_copurchase_list_file.close()\n"
   ]
  },
  {
   "cell_type": "code",
   "execution_count": 21,
   "metadata": {},
   "outputs": [
    {
     "name": "stdout",
     "output_type": "stream",
     "text": [
      "Recommendations for Customers Who Bought This DVD:\n",
      "ASIN:  B00005R1O7\n",
      "Title:  The Crawling Eye (Widescreen European Edition)\n",
      "Sales Rank:  1899\n",
      "Total Reviews:  42\n",
      "Average Rating:  4.0\n",
      "Degree of Centrality:  80\n",
      "Clustering Coefficient:  0.57\n"
     ]
    }
   ],
   "source": [
    "print(\"Recommendations for Customers Who Bought This DVD:\")\n",
    "Customer_Purchased_Asin = 'B00005R1O7'\n",
    "print(\"ASIN: \", Customer_Purchased_Asin)\n",
    "print(\"Title: \", amazon_dvd_data[Customer_Purchased_Asin]['Title'])\n",
    "print(\"Sales Rank: \", amazon_dvd_data[Customer_Purchased_Asin]['Sales Rank'])\n",
    "print(\"Total Reviews: \", amazon_dvd_data[Customer_Purchased_Asin]['Review Count'])\n",
    "print(\"Average Rating: \", amazon_dvd_data[Customer_Purchased_Asin]['Average Rating'])\n",
    "print(\"Degree of Centrality: \", amazon_dvd_data[Customer_Purchased_Asin]['Degree of Centrality'])\n",
    "print(\"Clustering Coefficient: \", amazon_dvd_data[Customer_Purchased_Asin]['Clustering Coefficient'])\n"
   ]
  },
  {
   "cell_type": "code",
   "execution_count": 22,
   "metadata": {},
   "outputs": [],
   "source": [
    "n = Customer_Purchased_Asin\n",
    "#Creating an ego graph\n",
    "ego = nx.ego_graph(dvd_co_purchase_graph, n, radius = 1)\n",
    "#converting ego graph into a new graph for further processing\n",
    "Purchased_ASIN_Ego_Graph = nx.Graph(ego)"
   ]
  },
  {
   "cell_type": "code",
   "execution_count": 23,
   "metadata": {},
   "outputs": [],
   "source": [
    "threshold = 0.5 # finding the nodes having similarity measure based on category above the threshold value\n",
    "Purchased_ASIN_Ego_Trim_Graph = nx.Graph()\n",
    "for f, t, e in Purchased_ASIN_Ego_Graph.edges(data = True):\n",
    "    if e['weight'] >= threshold: \n",
    "        Purchased_ASIN_Ego_Trim_Graph.add_edge(f, t)"
   ]
  },
  {
   "cell_type": "code",
   "execution_count": 24,
   "metadata": {},
   "outputs": [],
   "source": [
    "Purchased_ASIN_Neighbors = Purchased_ASIN_Ego_Trim_Graph.neighbors(Customer_Purchased_Asin)"
   ]
  },
  {
   "cell_type": "code",
   "execution_count": 25,
   "metadata": {},
   "outputs": [],
   "source": [
    "ASIN_Meta = []\n",
    "for asin in Purchased_ASIN_Neighbors:\n",
    "    ASIN = asin\n",
    "    Title = Amazon_DVD[ASIN]['Title']\n",
    "    SalesRank = Amazon_DVD[ASIN]['SalesRank']\n",
    "    TotalReviews = Amazon_DVD[ASIN]['TotalReviews']\n",
    "    AvgRating = Amazon_DVD[ASIN]['AvgRating']\n",
    "    DegreeCentrality = Amazon_DVD[ASIN]['DegreeCentrality']\n",
    "    ASIN_Meta.append((ASIN, Title, SalesRank, TotalReviews, AvgRating, DegreeCentrality, ClusteringCoeff))"
   ]
  },
  {
   "cell_type": "code",
   "execution_count": 26,
   "metadata": {},
   "outputs": [],
   "source": [
    "Top5_ByAbgRating_ThenByTotalReviews = sorted(ASIN_Meta, key = lambda x: (x[4], x[3]), reverse = True)[:5]"
   ]
  },
  {
   "cell_type": "code",
   "execution_count": 31,
   "metadata": {},
   "outputs": [
    {
     "name": "stdout",
     "output_type": "stream",
     "text": [
      "\n",
      "Top 5 Recommendations By Average Rating Then By TotalReviews for Users Purchased The DVD: \n",
      "ASIN\t Title\t SalesRank\t TotalReviews\t AvgRating\t DegreeCentrality\t ClusteringCoeff\n",
      "('B000059PPL', 'The Day the Earth Caught Fire', 5337, 16, 4.5, 6, 0.0)\n",
      "('B00004WGCA', 'They Came from Beyond Space', 41155, 13, 3.5, 3, 0.0)\n",
      "('6305772681', 'Devil Girl from Mars', 11644, 13, 3.5, 5, 0.0)\n",
      "('B00005A0Q0', 'They Came from Beyond Space', 16133, 13, 3.5, 3, 0.0)\n",
      "('B00004W19F', 'First Spaceship on Venus', 8052, 30, 3.0, 9, 0.0)\n",
      "\n"
     ]
    }
   ],
   "source": [
    "print()\n",
    "print(\"Top 5 Recommendations By Average Rating Then By TotalReviews for Users Purchased The DVD: \")\n",
    "print('ASIN\\t', 'Title\\t', 'SalesRank\\t', 'TotalReviews\\t', 'AvgRating\\t', 'DegreeCentrality\\t', 'ClusteringCoeff')\n",
    "for asin in Top5_ByAbgRating_ThenByTotalReviews:\n",
    "    print(asin)\n",
    "\n",
    "print()"
   ]
  }
 ],
 "metadata": {
  "kernelspec": {
   "display_name": ".venv",
   "language": "python",
   "name": "python3"
  },
  "language_info": {
   "codemirror_mode": {
    "name": "ipython",
    "version": 3
   },
   "file_extension": ".py",
   "mimetype": "text/x-python",
   "name": "python",
   "nbconvert_exporter": "python",
   "pygments_lexer": "ipython3",
   "version": "3.10.6"
  }
 },
 "nbformat": 4,
 "nbformat_minor": 2
}
